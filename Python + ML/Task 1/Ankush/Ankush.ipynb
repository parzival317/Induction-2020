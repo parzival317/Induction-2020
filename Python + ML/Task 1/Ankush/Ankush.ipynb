{
 "cells": [
  {
   "cell_type": "markdown",
   "metadata": {},
   "source": [
    "# Variable "
   ]
  },
  {
   "cell_type": "code",
   "execution_count": 1,
   "metadata": {},
   "outputs": [
    {
     "output_type": "stream",
     "name": "stdout",
     "text": "My roll is 42\n"
    }
   ],
   "source": [
    "roll=42  #declaration\n",
    "print('My roll is', roll) #execution"
   ]
  },
  {
   "cell_type": "markdown",
   "metadata": {},
   "source": [
    "# Print Statements"
   ]
  },
  {
   "cell_type": "code",
   "execution_count": 2,
   "metadata": {},
   "outputs": [
    {
     "output_type": "stream",
     "name": "stdout",
     "text": "I am a student\n"
    }
   ],
   "source": [
    "print('I am a student') #print syntax"
   ]
  },
  {
   "cell_type": "markdown",
   "metadata": {},
   "source": [
    "# Data types and type casting"
   ]
  },
  {
   "cell_type": "code",
   "execution_count": 3,
   "metadata": {},
   "outputs": [
    {
     "output_type": "stream",
     "name": "stdout",
     "text": "<class 'float'>\n99.9\n"
    }
   ],
   "source": [
    "#typecasting is of two types. (i) Implicit and (ii) Explicit\n",
    "\n",
    "#Implicit\n",
    "\n",
    "a=42                               #declaration of an integer\n",
    "b=57.90                            #declaration of a floating point number\n",
    "c=a+b                              #c is the sum of an integer 'a' and a floating point number 'b'\n",
    "print(type(c))                     #this statement shows the data type of 'c'\n",
    "print(c)                           #this statement prints the value of 'c'"
   ]
  },
  {
   "cell_type": "code",
   "execution_count": 4,
   "metadata": {},
   "outputs": [
    {
     "output_type": "stream",
     "name": "stdout",
     "text": "<class 'int'>\n99\n"
    }
   ],
   "source": [
    "#Explicit\n",
    "\n",
    "a=42                                #declaration of an integer\n",
    "b=57.90                             #declaration of a floating point number\n",
    "c=int(a+b)                          #c is the integer value of sum of an integer 'a' and a floating point number 'b'\n",
    "print(type(c))                      #this statement shows the data type of 'c'\n",
    "print(c)                            #this statement prints the value of 'c'\n",
    "\n",
    "#here the code was same was before but the user specified the required data type 'int' in line marking 5"
   ]
  },
  {
   "cell_type": "markdown",
   "metadata": {},
   "source": [
    "# String and String formatting\n"
   ]
  },
  {
   "cell_type": "code",
   "execution_count": 5,
   "metadata": {},
   "outputs": [
    {
     "output_type": "stream",
     "name": "stdout",
     "text": "i am a student of vssut\ni am a resident of pulastya\n"
    }
   ],
   "source": [
    "a='vssut'                                #'a' is a string\n",
    "b=\"i am a student of %s\" %a               #'%s' is a type specifier which uses the value of 'a' to complete the statement   \n",
    "print(b)\n",
    "c=\"i am a resident of {}\".format('pulastya')  #dotformatting\n",
    "print(c)"
   ]
  },
  {
   "cell_type": "markdown",
   "metadata": {},
   "source": [
    "# String Methods"
   ]
  },
  {
   "cell_type": "code",
   "execution_count": 6,
   "metadata": {},
   "outputs": [
    {
     "output_type": "stream",
     "name": "stdout",
     "text": "I AM A STUDENT\ni am a student\n['I', 'am', 'a', 'student']\n"
    }
   ],
   "source": [
    "a='I am a student'\n",
    "print(a.upper())                                #returns all the string letters in uppercase\n",
    "print(a.lower())                                #returns all the string letters in lowercase\n",
    "print(a.split())                                #slpits the individual words of the string"
   ]
  },
  {
   "cell_type": "markdown",
   "metadata": {},
   "source": [
    "# Lists (and List methods)"
   ]
  },
  {
   "cell_type": "code",
   "execution_count": 7,
   "metadata": {},
   "outputs": [
    {
     "output_type": "stream",
     "name": "stdout",
     "text": "4\n[3, 2, 1, 4]\n[4, 1, 2, 3]\n[1, 2, 3, 4]\n[1, 2, 3, 4, 5]\n"
    }
   ],
   "source": [
    "li=[3,2,1]                                     #declation and initialisation of a list\n",
    "li.append(4)                                   #'4' is added to the last index of the list\n",
    "print(len(li))                                 #prints the length of lista\n",
    "print(li)\n",
    "li.reverse()                                   #permanently reverses the list\n",
    "print(li)\n",
    "li.sort()                                      #sorts the list\n",
    "print(li)\n",
    "li.insert(4,5)                                 #insert an elementa at a particular index\n",
    "print(li)"
   ]
  },
  {
   "cell_type": "markdown",
   "metadata": {},
   "source": [
    "#  Tuples (and it's methods)"
   ]
  },
  {
   "cell_type": "code",
   "execution_count": 8,
   "metadata": {},
   "outputs": [
    {
     "output_type": "stream",
     "name": "stdout",
     "text": "(2, 3, 'one')\n"
    }
   ],
   "source": [
    "t=(1,2,3)                                           #they are similar to list but immutable\n",
    "t1=(12,456,75)                                      #homogeneous tuples contains all elements of same datatype\n",
    "t2=(1,2,3,'one')                                    #heterogeneous tuples contains elements of different datatypes\n",
    "print(t2[1:])                                       #print the tuple elements from index '1' to the end"
   ]
  },
  {
   "cell_type": "markdown",
   "metadata": {},
   "source": [
    "# Sets (and it's methods)"
   ]
  },
  {
   "cell_type": "code",
   "execution_count": 9,
   "metadata": {},
   "outputs": [
    {
     "output_type": "stream",
     "name": "stdout",
     "text": "{1}\n{1}\n{1, 2}\n"
    }
   ],
   "source": [
    "x=set()                           #declaration of a set\n",
    "x.add(1)                          #adding elements to a set\n",
    "print(x)\n",
    "x.add(1)                          #sets do not take duplicate element\n",
    "print(x)\n",
    "lis=[1,2,2,2,1,2,1,2,1,2,1]\n",
    "print(set(lis))#set made out of a list which consists of 1 and 2 repeated many times, shows the elements without repetition"
   ]
  },
  {
   "cell_type": "markdown",
   "metadata": {},
   "source": [
    "# Dictionaries (and it's methods)"
   ]
  },
  {
   "cell_type": "code",
   "execution_count": 10,
   "metadata": {},
   "outputs": [
    {
     "output_type": "stream",
     "name": "stdout",
     "text": "David\ndict_keys(['name', 'roll', 'section'])\ndict_values(['David', 42, 'd'])\ndict_items([('name', 'David'), ('roll', 42), ('section', 'd')])\n"
    }
   ],
   "source": [
    "dicti={'name':'David','roll':42,'section':'d'}    #dict is declared at \"'key':value\"\n",
    "print(dicti['name'])                              #prints the value of the key 'name'\n",
    "print(dicti.keys())                               #prints all the available keys of the dict\n",
    "print(dicti.values())                             #prints all the values of keys of the dict\n",
    "print(dicti.items())                              #prints the values and keys as a tuple"
   ]
  },
  {
   "cell_type": "markdown",
   "metadata": {},
   "source": [
    "# Functions"
   ]
  },
  {
   "cell_type": "code",
   "execution_count": 11,
   "metadata": {},
   "outputs": [
    {
     "output_type": "stream",
     "name": "stdout",
     "text": "30\n"
    }
   ],
   "source": [
    "def addition(a,b):    #declaration pf function, 'a' and 'b' here are parameters\n",
    "    return a+b        #return statement of the function\n",
    "\n",
    "a=10\n",
    "b=20\n",
    "print(addition(a,b)) #function calling"
   ]
  },
  {
   "cell_type": "markdown",
   "metadata": {},
   "source": [
    "# Lambdas"
   ]
  },
  {
   "cell_type": "code",
   "execution_count": 12,
   "metadata": {},
   "outputs": [
    {
     "output_type": "stream",
     "name": "stdout",
     "text": "30\n"
    }
   ],
   "source": [
    "addition=lambda a,b:a+b   #lambra expression\n",
    "\n",
    "a=10\n",
    "b=20\n",
    "print(addition(a,b))     #function calling"
   ]
  },
  {
   "cell_type": "markdown",
   "metadata": {},
   "source": [
    "# Conditionals"
   ]
  },
  {
   "cell_type": "code",
   "execution_count": 13,
   "metadata": {},
   "outputs": [
    {
     "output_type": "stream",
     "name": "stdout",
     "text": "double digit or more\n"
    }
   ],
   "source": [
    "a=10\n",
    "if a>=10:                                     #condition\n",
    "    print('double digit or more')             #set of instructions if the condition is met\n",
    "else:                                         #alternate condition\n",
    "    print('single digit or negative')         #alternate set of instructions when the first condition fails "
   ]
  },
  {
   "cell_type": "markdown",
   "metadata": {},
   "source": [
    "# Operators"
   ]
  },
  {
   "cell_type": "code",
   "execution_count": 16,
   "metadata": {},
   "outputs": [
    {
     "output_type": "stream",
     "name": "stdout",
     "text": "30\nFalse\n0\n"
    }
   ],
   "source": [
    "a,b=10,20\n",
    "print(a+b)       #arithmatic operator\n",
    "print(a>b)       #comparison operator returns a bool value\n",
    "print(a&b)       #bitwise operator"
   ]
  },
  {
   "cell_type": "markdown",
   "metadata": {},
   "source": [
    "# Loops"
   ]
  },
  {
   "cell_type": "code",
   "execution_count": 15,
   "metadata": {},
   "outputs": [
    {
     "output_type": "stream",
     "name": "stdout",
     "text": "0\n1\n2\n3\n"
    }
   ],
   "source": [
    "#there are two widely used loops (i) For loop (ii) while loop\n",
    "\n",
    "#(i) for loop\n",
    "\n",
    "for i in range(4):          #range function returns value from 0 to 4-1=3 here\n",
    "    print(i)\n"
   ]
  },
  {
   "cell_type": "code",
   "execution_count": 14,
   "metadata": {},
   "outputs": [
    {
     "output_type": "stream",
     "name": "stdout",
     "text": "1\n2\n3\n4\n5\n6\n"
    }
   ],
   "source": [
    "lis=[1,2,3,4,5,6]\n",
    "for i in lis:             #for can also be used to extract list or any other datatype elements with ease\n",
    "    print(i)"
   ]
  },
  {
   "cell_type": "code",
   "execution_count": 1,
   "metadata": {},
   "outputs": [
    {
     "name": "stdout",
     "output_type": "stream",
     "text": [
      "5\n",
      "4\n",
      "3\n",
      "2\n",
      "1\n"
     ]
    }
   ],
   "source": [
    "#while loop\n",
    "\n",
    "i=5\n",
    "while i>0:             #loops executes till the condition is met\n",
    "    print(i)\n",
    "    i-=1               #update variable "
   ]
  },
  {
   "cell_type": "markdown",
   "metadata": {},
   "source": [
    "# Modules"
   ]
  },
  {
   "cell_type": "code",
   "execution_count": 6,
   "metadata": {},
   "outputs": [
    {
     "name": "stdout",
     "output_type": "stream",
     "text": [
      "name: Ankush\n",
      "roll: 42\n",
      "section: D\n",
      "college: VSSUT\n"
     ]
    }
   ],
   "source": [
    "import samplemod as sm                           #importing pre-saved module\n",
    "print(\"name:\",sm.Ankush[\"name\"])\n",
    "print(\"roll:\",sm.Ankush[\"roll\"])\n",
    "print(\"section:\",sm.Ankush[\"section\"])\n",
    "print(\"college:\",sm.Ankush[\"college\"])"
   ]
  },
  {
   "cell_type": "markdown",
   "metadata": {},
   "source": [
    "# Classes, Constructors and objects"
   ]
  },
  {
   "cell_type": "code",
   "execution_count": 12,
   "metadata": {},
   "outputs": [
    {
     "name": "stdout",
     "output_type": "stream",
     "text": [
      "Radius is:  1\n",
      "Area is:  3.14\n",
      "Circumference is:  6.28\n"
     ]
    }
   ],
   "source": [
    "class Circle:                                    # Definition od circle class\n",
    "    def __init__(self, radius=1):                # Circle gets instantiated with a radius (default is 1)\n",
    "        self.radius=radius \n",
    "        self.area=radius*radius*3.14\n",
    "    def setRadius(self, new_radius):             # Method for resetting Radius\n",
    "        self.radius = new_radius\n",
    "        self.area=new_radius*new_radius*3.14\n",
    "    def getCircumference(self):                  # Method for getting Circumference\n",
    "        return self.radius*3.14*2\n",
    "\n",
    "c = Circle()                                     #object of circle class\n",
    "print('Radius is: ',c.radius)\n",
    "print('Area is: ',c.area)\n",
    "print('Circumference is: ',c.getCircumference())"
   ]
  },
  {
   "cell_type": "markdown",
   "metadata": {},
   "source": [
    "# Extended Class (Inheritance)"
   ]
  },
  {
   "cell_type": "code",
   "execution_count": 1,
   "metadata": {},
   "outputs": [
    {
     "output_type": "stream",
     "name": "stdout",
     "text": "Animal created\nDog created\nDog\nEating\nWoof!\n"
    }
   ],
   "source": [
    "class Animal:                 #declaration of class animal\n",
    "    def __init__(self):\n",
    "        print(\"Animal created\")\n",
    "    def whoAmI(self):\n",
    "        print(\"Animal\")\n",
    "    def eat(self):\n",
    "        print(\"Eating\")\n",
    "\n",
    "\n",
    "class Dog(Animal):               #class dog is inherited from animal\n",
    "    def __init__(self):\n",
    "        Animal.__init__(self)\n",
    "        print(\"Dog created\")\n",
    "    def whoAmI(self):\n",
    "        print(\"Dog\")\n",
    "    def bark(self):\n",
    "        print(\"Woof!\")\n",
    "        \n",
    "d=Dog()                        #object of dog class\n",
    "d.whoAmI()                     #method of dog class\n",
    "d.eat()                        #also can use method of animal class as dog is inherited from animal class\n",
    "d.bark()                       #another method of dog class"
   ]
  },
  {
   "cell_type": "markdown",
   "metadata": {},
   "source": [
    "# File handling"
   ]
  },
  {
   "cell_type": "code",
   "execution_count": 4,
   "metadata": {},
   "outputs": [
    {
     "output_type": "stream",
     "name": "stdout",
     "text": "1.India\n2.Australia\n3.USA\n3.Germany\n4.Russia\n"
    }
   ],
   "source": [
    "sf = open(\"samplefile.txt\", \"r\")   #the file 'samplefile.txt' is imported as sf\n",
    "print(sf.read())                   #the method 'read()' returns the data of the file"
   ]
  }
 ],
 "metadata": {
  "kernelspec": {
   "display_name": "Python 3.6.5 64-bit",
   "language": "python",
   "name": "python36564bit425b6117d22249289097acc5815386cc"
  },
  "language_info": {
   "codemirror_mode": {
    "name": "ipython",
    "version": 3
   },
   "file_extension": ".py",
   "mimetype": "text/x-python",
   "name": "python",
   "nbconvert_exporter": "python",
   "pygments_lexer": "ipython3",
   "version": "3.6.5-final"
  }
 },
 "nbformat": 4,
 "nbformat_minor": 2
}